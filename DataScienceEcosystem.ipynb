{
 "cells": [
  {
   "cell_type": "markdown",
   "id": "934e9c0f-2749-4d65-873e-70c2b590d522",
   "metadata": {
    "tags": []
   },
   "source": [
    "# Data Science Tools and Ecosystem \n"
   ]
  },
  {
   "cell_type": "markdown",
   "id": "989ce656-e472-413c-bc4d-16ed36cb6cdf",
   "metadata": {
    "tags": []
   },
   "source": [
    "In this notebook, Data Science Tools and Ecosystem are summarized."
   ]
  },
  {
   "cell_type": "markdown",
   "id": "7c1b8fd1-21a5-4c26-9d55-e3fc0a07885a",
   "metadata": {},
   "source": [
    "**Objectives:**\n",
    "* Create a Jupyter Notebook\n",
    "* Share your notebook through GitHub\n",
    "* Insert code and markdown cells\n",
    "* popular languages\n",
    "* Tool for data Science\n",
    "* Table\n",
    "\n"
   ]
  },
  {
   "cell_type": "markdown",
   "id": "162aff43-31a1-4e33-b8b6-38e357a2a45a",
   "metadata": {},
   "source": [
    "Some of the popular languages that Data Scientists use are:\n",
    "1. Python\n",
    "2. R\n",
    "3. Java\n",
    "4. Julia\n"
   ]
  },
  {
   "cell_type": "markdown",
   "id": "b33c3c4b-f4c4-44a0-8570-ae22acc1818e",
   "metadata": {},
   "source": [
    "Some of the commonly used libraries used by Data Scientists include:\n",
    "1. Pandas\n",
    "2. Numpy\n",
    "3. Scikit-learn\n",
    "4. ggplot2\n",
    "5. caret\n",
    "6. plotly\n",
    "7. TensorFlow\n"
   ]
  },
  {
   "cell_type": "markdown",
   "id": "7ec1c1c6-e91c-4ce3-9124-dd1b43575f7f",
   "metadata": {},
   "source": [
    "|Data Scince Tools|\n",
    "--------------------\n",
    "|Jupyter Notebook|\n",
    "|RStudio|\n",
    "|Apache Spark|\n",
    "|Power Bi|\n",
    "|Tableau|"
   ]
  },
  {
   "cell_type": "markdown",
   "id": "cac3ce20-71ba-416f-b39c-f18da6ea7e12",
   "metadata": {},
   "source": [
    "### Below are a few examples of evaluating arithmetic expressions in Python\n",
    "* exponet=2**3 \n",
    "* add =2+3\n",
    "* subtract=3-2\n",
    "* Floor devision 8//3\n"
   ]
  },
  {
   "cell_type": "code",
   "execution_count": 7,
   "id": "8e946990-f6a6-4e83-8990-1ada24c7a9c6",
   "metadata": {},
   "outputs": [
    {
     "name": "stdout",
     "output_type": "stream",
     "text": [
      "result= 17\n"
     ]
    }
   ],
   "source": [
    "# This is a simple arithmetic expression to multiply and then add 2 integers\n",
    "result=(3*4)+5\n",
    "print('result=',result)"
   ]
  },
  {
   "cell_type": "code",
   "execution_count": 10,
   "id": "2ec2095b-218b-41d7-9b24-91d84a07df34",
   "metadata": {},
   "outputs": [
    {
     "name": "stdout",
     "output_type": "stream",
     "text": [
      "hours= 3.3333333333333335\n"
     ]
    }
   ],
   "source": [
    "# This will convert 200 minutes to hours by diving by 60. general rull is number of mins devided by 60\n",
    "hours=200/60\n",
    "print('hours=',hours)"
   ]
  },
  {
   "cell_type": "markdown",
   "id": "3b1b9e71-5712-4342-bdd9-e0aa1ceadb40",
   "metadata": {},
   "source": [
    "## Author\n",
    "Sajad Saghaye Polkoo"
   ]
  },
  {
   "cell_type": "code",
   "execution_count": null,
   "id": "c98606eb-b448-47e4-a8bd-22c7f5ddbcef",
   "metadata": {},
   "outputs": [],
   "source": []
  }
 ],
 "metadata": {
  "kernelspec": {
   "display_name": "Python 3 (ipykernel)",
   "language": "python",
   "name": "python3"
  },
  "language_info": {
   "codemirror_mode": {
    "name": "ipython",
    "version": 3
   },
   "file_extension": ".py",
   "mimetype": "text/x-python",
   "name": "python",
   "nbconvert_exporter": "python",
   "pygments_lexer": "ipython3",
   "version": "3.9.13"
  }
 },
 "nbformat": 4,
 "nbformat_minor": 5
}
